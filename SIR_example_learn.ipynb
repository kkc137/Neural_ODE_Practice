{
 "cells": [
  {
   "cell_type": "code",
   "execution_count": null,
   "id": "6cb81261-1250-4adf-a976-0395d68ce946",
   "metadata": {},
   "outputs": [],
   "source": [
    "\n",
    "Assumptions:\n",
    "1 the number of excess deaths in a week was proportional to the number of new cases of flu in some earlier week.\n",
    "2 include those who do not recover but die in the recovered group -- they too can no longer contract the disease\n",
    "# if we include these people to recovered, it satisfy that they will not be infected or spread- just like recovered\n",
    "\n",
    "3 Ignoring births and immigration: the only way an individual leaves the susceptible group is being infected.\n",
    "4 mixing of the population is homogeeneous, the fraction of these contact that are with susceptibles is s(t).\n",
    "5 k of the infected group will recover during any given day.\n",
    "6 b: infected individual contact per day that is sufficient to spread the disease.\n",
    "From my instinct: \n",
    "1 s(t): in the end, decrease\n",
    "\n",
    "2 i(t): in the end, to 0?\n",
    "\n",
    "3 r(t) will increase to a stable number and stable\n",
    "\n"
   ]
  },
  {
   "cell_type": "code",
   "execution_count": null,
   "id": "8b16110e-8c3d-4b4f-bc8b-88177415ca7a",
   "metadata": {},
   "outputs": [],
   "source": [
    "define Variables\n",
    "dependent variables define people\n",
    "S=S(t) #number of susceptible individuals\n",
    "I=I(t) #number of infected individuals\n",
    "R=R(t) #number of recovered individuals(will not be infected in a period.\n",
    "b*S(t)/N = new infected individuals per day for each infected individuals"
   ]
  },
  {
   "cell_type": "code",
   "execution_count": null,
   "id": "3d2e2580-edbf-4800-8aa5-9cc54fcf9ed4",
   "metadata": {},
   "outputs": [],
   "source": [
    "question:\n",
    "0 how to think the b*s(t) is new cases based on one infected individual\n",
    "1 does ignoring births and immigration matter?\n",
    "2 Is the assumption too strict and might not be practical? becasue it shows that the only way \n",
    "that an individual leave the susceptible population. how about natural dealth\n",
    "3 how about overlap?(a susceptible have contact with several infected individuals)\n",
    "4 the number are so strict, will that be not practical enough?\n",
    "5 how can we know the parameter in the model?(b and k)\n"
   ]
  },
  {
   "cell_type": "code",
   "execution_count": null,
   "id": "804ea8da-4f4f-4649-a929-7de5392fa9fe",
   "metadata": {},
   "outputs": [],
   "source": [
    "at each time  t\n",
    "s(t) + i(t) + r(t) = 1"
   ]
  },
  {
   "cell_type": "code",
   "execution_count": null,
   "id": "be6f507f-02bc-405c-bfe5-142d79159e57",
   "metadata": {},
   "outputs": [],
   "source": [
    "The susceptible equation:\n",
    "dS/dt = -b*s(t)*I(t)\n",
    "ds/dt = -b*s(t)*i(t)\n"
   ]
  },
  {
   "cell_type": "code",
   "execution_count": null,
   "id": "9263b63f-d613-43dd-84f3-708d029aca73",
   "metadata": {},
   "outputs": [],
   "source": [
    "The recovered equation:\n",
    "dr/dt = k*i(t)\n"
   ]
  },
  {
   "cell_type": "code",
   "execution_count": null,
   "id": "3aaae501-ee99-416e-85e9-3c574642031c",
   "metadata": {},
   "outputs": [],
   "source": [
    "Relationship:\n",
    "s(t) + i(t) + r(t) = 1 #at each time  t\n",
    "ds/dt + di/dt + dr/dt = 0\n"
   ]
  },
  {
   "cell_type": "code",
   "execution_count": null,
   "id": "ca8ce3ff-f8e8-4125-9484-abec46d6c7f3",
   "metadata": {},
   "outputs": [],
   "source": [
    "The infected equation:\n",
    "di/dt = b*s(t)*i(t)-k*i(t)"
   ]
  },
  {
   "cell_type": "code",
   "execution_count": null,
   "id": "1791117a-e596-4dd5-ba3b-566cac2cd2e4",
   "metadata": {},
   "outputs": [],
   "source": []
  }
 ],
 "metadata": {
  "kernelspec": {
   "display_name": "",
   "name": ""
  },
  "language_info": {
   "name": ""
  }
 },
 "nbformat": 4,
 "nbformat_minor": 5
}
